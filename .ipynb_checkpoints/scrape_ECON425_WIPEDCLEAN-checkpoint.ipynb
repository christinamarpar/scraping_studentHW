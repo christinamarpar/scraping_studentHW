{
 "cells": [
  {
   "cell_type": "code",
   "execution_count": null,
   "metadata": {},
   "outputs": [],
   "source": [
    "# AUTHOR: CHRISTINA PARK (9/21/18)\n",
    "\n",
    "# Instructions: Fill in these variables with your information:\n",
    "# URL of page to be scraped\n",
    "url = \"\"\n",
    "#Information for logging onto Sakai\n",
    "username = \"\"\n",
    "pwd = \"\"\n",
    "#Student names (as they appear in Sakai) \n",
    "#For example:\n",
    "student_names = ['Parker, Peter', 'Kent, Clark']\n",
    "#Assignment identifier\n",
    "HW_id = \"HW1\""
   ]
  },
  {
   "cell_type": "code",
   "execution_count": 1,
   "metadata": {},
   "outputs": [],
   "source": [
    "# Dependencies\n",
    "from selenium import webdriver\n",
    "import requests"
   ]
  },
  {
   "cell_type": "code",
   "execution_count": 2,
   "metadata": {},
   "outputs": [],
   "source": [
    "# Retrieve page with the requests module\n",
    "response = requests.get(url)"
   ]
  },
  {
   "cell_type": "code",
   "execution_count": 4,
   "metadata": {},
   "outputs": [],
   "source": [
    "# Log into Sakai\n",
    "\n",
    "#Specify browser\n",
    "driver = webdriver.Chrome()\n",
    "#open webpage\n",
    "driver.get(url)\n",
    "#put in login\n",
    "driver.find_element_by_id(\"username\").send_keys(username)\n",
    "driver.find_element_by_id (\"password\").send_keys(pwd)\n",
    "\n",
    "NEXT_BUTTON_XPATH = '//input[@type=submit]'\n",
    "\n",
    "button = driver.find_element_by_name(\"_eventId_proceed\")\n",
    "button.click()"
   ]
  },
  {
   "cell_type": "code",
   "execution_count": null,
   "metadata": {},
   "outputs": [],
   "source": [
    "#Fill in with students who wrote the wrong title names or had missing assignments \n",
    "# (for reference when grading) and remove them from the student_names list\n",
    "student_names_incorrect_titles = []\n",
    "student_names_missing = []"
   ]
  },
  {
   "cell_type": "code",
   "execution_count": null,
   "metadata": {},
   "outputs": [],
   "source": [
    "# If program fails, re-load names array with the remaining names (commented out below), \n",
    "# and make sure the webpage is navigated to the appropriate page\n",
    "\n",
    "# student_names= []\n",
    "for i in range(len(names)):\n",
    "    student_folder = driver.find_element_by_partial_link_text(student_names[i])\n",
    "    student_folder.click()\n",
    "    stu_HW = driver.find_element_by_partial_link_text(HW_id)\n",
    "    stu_HW.click()\n",
    "    student_folder = driver.find_element_by_partial_link_text(student_names[i])\n",
    "    student_folder.click()\n",
    "    #driver.execute_script(\"window.history.go(-1)\")"
   ]
  },
  {
   "cell_type": "code",
   "execution_count": null,
   "metadata": {},
   "outputs": [],
   "source": []
  },
  {
   "cell_type": "code",
   "execution_count": null,
   "metadata": {},
   "outputs": [],
   "source": []
  },
  {
   "cell_type": "code",
   "execution_count": null,
   "metadata": {},
   "outputs": [],
   "source": []
  },
  {
   "cell_type": "code",
   "execution_count": null,
   "metadata": {},
   "outputs": [],
   "source": []
  },
  {
   "cell_type": "code",
   "execution_count": null,
   "metadata": {},
   "outputs": [],
   "source": []
  },
  {
   "cell_type": "code",
   "execution_count": null,
   "metadata": {},
   "outputs": [],
   "source": []
  },
  {
   "cell_type": "code",
   "execution_count": null,
   "metadata": {},
   "outputs": [],
   "source": []
  },
  {
   "cell_type": "code",
   "execution_count": null,
   "metadata": {},
   "outputs": [],
   "source": []
  },
  {
   "cell_type": "code",
   "execution_count": null,
   "metadata": {},
   "outputs": [],
   "source": []
  },
  {
   "cell_type": "code",
   "execution_count": null,
   "metadata": {},
   "outputs": [],
   "source": []
  }
 ],
 "metadata": {
  "kernelspec": {
   "display_name": "Python 3",
   "language": "python",
   "name": "python3"
  },
  "language_info": {
   "codemirror_mode": {
    "name": "ipython",
    "version": 3
   },
   "file_extension": ".py",
   "mimetype": "text/x-python",
   "name": "python",
   "nbconvert_exporter": "python",
   "pygments_lexer": "ipython3",
   "version": "3.6.4"
  }
 },
 "nbformat": 4,
 "nbformat_minor": 2
}
